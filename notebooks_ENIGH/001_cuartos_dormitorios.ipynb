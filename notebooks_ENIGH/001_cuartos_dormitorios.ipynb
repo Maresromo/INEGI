{
 "cells": [
  {
   "cell_type": "code",
   "execution_count": 1,
   "id": "d7be0bc1-efb5-4fd4-bc5f-df95d60913a2",
   "metadata": {},
   "outputs": [],
   "source": [
    "import pandas as pd\n",
    "import matplotlib.pyplot as plt\n"
   ]
  },
  {
   "cell_type": "code",
   "execution_count": 8,
   "id": "1d561888-24d5-462a-92c5-41c5654ce14d",
   "metadata": {},
   "outputs": [
    {
     "data": {
      "text/html": [
       "<div>\n",
       "<style scoped>\n",
       "    .dataframe tbody tr th:only-of-type {\n",
       "        vertical-align: middle;\n",
       "    }\n",
       "\n",
       "    .dataframe tbody tr th {\n",
       "        vertical-align: top;\n",
       "    }\n",
       "\n",
       "    .dataframe thead th {\n",
       "        text-align: right;\n",
       "    }\n",
       "</style>\n",
       "<table border=\"1\" class=\"dataframe\">\n",
       "  <thead>\n",
       "    <tr style=\"text-align: right;\">\n",
       "      <th></th>\n",
       "      <th>folioviv</th>\n",
       "      <th>cuart_dorm</th>\n",
       "      <th>num_cuarto</th>\n",
       "      <th>factor</th>\n",
       "    </tr>\n",
       "  </thead>\n",
       "  <tbody>\n",
       "    <tr>\n",
       "      <th>0</th>\n",
       "      <td>100001901</td>\n",
       "      <td>1</td>\n",
       "      <td>4</td>\n",
       "      <td>207</td>\n",
       "    </tr>\n",
       "    <tr>\n",
       "      <th>1</th>\n",
       "      <td>100001902</td>\n",
       "      <td>3</td>\n",
       "      <td>4</td>\n",
       "      <td>207</td>\n",
       "    </tr>\n",
       "    <tr>\n",
       "      <th>2</th>\n",
       "      <td>100001904</td>\n",
       "      <td>2</td>\n",
       "      <td>3</td>\n",
       "      <td>207</td>\n",
       "    </tr>\n",
       "    <tr>\n",
       "      <th>3</th>\n",
       "      <td>100001905</td>\n",
       "      <td>2</td>\n",
       "      <td>3</td>\n",
       "      <td>207</td>\n",
       "    </tr>\n",
       "    <tr>\n",
       "      <th>4</th>\n",
       "      <td>100002501</td>\n",
       "      <td>2</td>\n",
       "      <td>3</td>\n",
       "      <td>196</td>\n",
       "    </tr>\n",
       "    <tr>\n",
       "      <th>...</th>\n",
       "      <td>...</td>\n",
       "      <td>...</td>\n",
       "      <td>...</td>\n",
       "      <td>...</td>\n",
       "    </tr>\n",
       "    <tr>\n",
       "      <th>90319</th>\n",
       "      <td>3260593814</td>\n",
       "      <td>1</td>\n",
       "      <td>2</td>\n",
       "      <td>183</td>\n",
       "    </tr>\n",
       "    <tr>\n",
       "      <th>90320</th>\n",
       "      <td>3260593815</td>\n",
       "      <td>2</td>\n",
       "      <td>4</td>\n",
       "      <td>183</td>\n",
       "    </tr>\n",
       "    <tr>\n",
       "      <th>90321</th>\n",
       "      <td>3260593816</td>\n",
       "      <td>2</td>\n",
       "      <td>3</td>\n",
       "      <td>183</td>\n",
       "    </tr>\n",
       "    <tr>\n",
       "      <th>90322</th>\n",
       "      <td>3260593817</td>\n",
       "      <td>3</td>\n",
       "      <td>4</td>\n",
       "      <td>183</td>\n",
       "    </tr>\n",
       "    <tr>\n",
       "      <th>90323</th>\n",
       "      <td>3260593818</td>\n",
       "      <td>1</td>\n",
       "      <td>3</td>\n",
       "      <td>183</td>\n",
       "    </tr>\n",
       "  </tbody>\n",
       "</table>\n",
       "<p>90324 rows × 4 columns</p>\n",
       "</div>"
      ],
      "text/plain": [
       "         folioviv  cuart_dorm  num_cuarto  factor\n",
       "0       100001901           1           4     207\n",
       "1       100001902           3           4     207\n",
       "2       100001904           2           3     207\n",
       "3       100001905           2           3     207\n",
       "4       100002501           2           3     196\n",
       "...           ...         ...         ...     ...\n",
       "90319  3260593814           1           2     183\n",
       "90320  3260593815           2           4     183\n",
       "90321  3260593816           2           3     183\n",
       "90322  3260593817           3           4     183\n",
       "90323  3260593818           1           3     183\n",
       "\n",
       "[90324 rows x 4 columns]"
      ]
     },
     "execution_count": 8,
     "metadata": {},
     "output_type": "execute_result"
    }
   ],
   "source": [
    "f = '../data/raw/enigh2024_ns_viviendas_csv/viviendas.csv'\n",
    "VIVIENDA = pd.read_csv(f, \n",
    "                       usecols = ['folioviv','cuart_dorm','num_cuarto','factor']\n",
    "                      )\n",
    "VIVIENDA"
   ]
  },
  {
   "cell_type": "code",
   "execution_count": 9,
   "id": "1109b641-398e-46ae-975f-dd42eabc9f18",
   "metadata": {},
   "outputs": [
    {
     "ename": "TypeError",
     "evalue": "IndexOpsMixin.value_counts() got an unexpected keyword argument 'weights'",
     "output_type": "error",
     "traceback": [
      "\u001b[31m---------------------------------------------------------------------------\u001b[39m",
      "\u001b[31mTypeError\u001b[39m                                 Traceback (most recent call last)",
      "\u001b[36mCell\u001b[39m\u001b[36m \u001b[39m\u001b[32mIn[9]\u001b[39m\u001b[32m, line 1\u001b[39m\n\u001b[32m----> \u001b[39m\u001b[32m1\u001b[39m \u001b[43mVIVIENDA\u001b[49m\u001b[43m[\u001b[49m\u001b[33;43m\"\u001b[39;49m\u001b[33;43mcuart_dorm\u001b[39;49m\u001b[33;43m\"\u001b[39;49m\u001b[43m]\u001b[49m\u001b[43m.\u001b[49m\u001b[43mvalue_counts\u001b[49m\u001b[43m(\u001b[49m\u001b[43mweights\u001b[49m\u001b[43m=\u001b[49m\u001b[43mVIVIENDA\u001b[49m\u001b[43m[\u001b[49m\u001b[33;43m\"\u001b[39;49m\u001b[33;43mfactor\u001b[39;49m\u001b[33;43m\"\u001b[39;49m\u001b[43m]\u001b[49m\u001b[43m)\u001b[49m\n",
      "\u001b[31mTypeError\u001b[39m: IndexOpsMixin.value_counts() got an unexpected keyword argument 'weights'"
     ]
    }
   ],
   "source": [
    "VIVIENDA[\"cuart_dorm\"].value_counts(weights=VIVIENDA[\"factor\"])"
   ]
  },
  {
   "cell_type": "code",
   "execution_count": 10,
   "id": "2ba40294-4e5c-4210-8d6e-2f224c2699e0",
   "metadata": {},
   "outputs": [
    {
     "data": {
      "text/plain": [
       "cuart_dorm\n",
       "1     10150477\n",
       "2     17120018\n",
       "3      8558097\n",
       "4      1983581\n",
       "5       417777\n",
       "6        97285\n",
       "7        21858\n",
       "8         4530\n",
       "9         2022\n",
       "10         319\n",
       "13          78\n",
       "Name: factor, dtype: int64"
      ]
     },
     "execution_count": 10,
     "metadata": {},
     "output_type": "execute_result"
    }
   ],
   "source": [
    "VIVIENDA.groupby(\"cuart_dorm\")[\"factor\"].sum()"
   ]
  },
  {
   "cell_type": "code",
   "execution_count": 17,
   "id": "fee41851-fd72-45cb-bc27-0e979bfb9d8a",
   "metadata": {},
   "outputs": [
    {
     "data": {
      "image/png": "[encoded data removed]",
      "text/plain": [
       "<Figure size 800x500 with 1 Axes>"
      ]
     },
     "metadata": {},
     "output_type": "display_data"
    }
   ],
   "source": [
    "# Ponderado\n",
    "cuart_dorm_counts = VIVIENDA.groupby(\"cuart_dorm\")[\"factor\"].sum()\n",
    "\n",
    "plt.figure(figsize=(8,5))\n",
    "plt.bar(cuart_dorm_counts.index.astype(str), cuart_dorm_counts.values)\n",
    "plt.xlabel(\"Número de dormitorios (cuart_dorm)\")\n",
    "plt.ylabel(\"Frecuencia ponderada\")\n",
    "plt.title(\"Histograma ponderado de dormitorios\")\n",
    "plt.show()\n"
   ]
  },
  {
   "cell_type": "code",
   "execution_count": 11,
   "id": "aded0f82-86c9-4da4-8f7c-6097addf4ac3",
   "metadata": {},
   "outputs": [
    {
     "data": {
      "text/plain": [
       "num_cuarto\n",
       "1      1369876\n",
       "2      4515111\n",
       "3     10779393\n",
       "4     10735507\n",
       "5      6423480\n",
       "6      2867668\n",
       "7       988218\n",
       "8       406774\n",
       "9       157745\n",
       "10       76874\n",
       "11       13233\n",
       "12       12613\n",
       "13        4373\n",
       "14         765\n",
       "15        1729\n",
       "16        1873\n",
       "17          84\n",
       "20         372\n",
       "21         354\n",
       "Name: factor, dtype: int64"
      ]
     },
     "execution_count": 11,
     "metadata": {},
     "output_type": "execute_result"
    }
   ],
   "source": [
    "VIVIENDA.groupby(\"num_cuarto\")[\"factor\"].sum()"
   ]
  },
  {
   "cell_type": "code",
   "execution_count": 16,
   "id": "bb3a3e0e-394e-4f14-8ca3-f14d741baab1",
   "metadata": {},
   "outputs": [
    {
     "data": {
      "image/png": "[encoded data removed]",
      "text/plain": [
       "<Figure size 800x500 with 1 Axes>"
      ]
     },
     "metadata": {},
     "output_type": "display_data"
    }
   ],
   "source": [
    "# Ponderado\n",
    "cuart_dorm_counts = VIVIENDA.groupby(\"num_cuarto\")[\"factor\"].sum()\n",
    "\n",
    "plt.figure(figsize=(8,5))\n",
    "plt.bar(cuart_dorm_counts.index.astype(str), cuart_dorm_counts.values)\n",
    "plt.xlabel(\"Número de dormitorios (cuart_dorm)\")\n",
    "plt.ylabel(\"Frecuencia ponderada\")\n",
    "plt.title(\"Histograma ponderado de cuartos\")\n",
    "plt.show()\n"
   ]
  },
  {
   "cell_type": "code",
   "execution_count": null,
   "id": "2062b28a-7039-4c64-80ca-a23d1731347b",
   "metadata": {},
   "outputs": [],
   "source": []
  }
 ],
 "metadata": {
  "kernelspec": {
   "display_name": "Python 3 (ipykernel)",
   "language": "python",
   "name": "python3"
  },
  "language_info": {
   "codemirror_mode": {
    "name": "ipython",
    "version": 3
   },
   "file_extension": ".py",
   "mimetype": "text/x-python",
   "name": "python",
   "nbconvert_exporter": "python",
   "pygments_lexer": "ipython3",
   "version": "3.12.5"
  }
 },
 "nbformat": 4,
 "nbformat_minor": 5
}
