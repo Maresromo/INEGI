{
 "cells": [
  {
   "cell_type": "markdown",
   "id": "149967b3-aa6a-4f6f-8934-f5a0ce4d13fb",
   "metadata": {},
   "source": [
    "# Reporte: Limpieza de datos ENCEVI"
   ]
  },
  {
   "cell_type": "markdown",
   "id": "55f2fdbb-d37c-4e91-b639-7c2941f010f8",
   "metadata": {},
   "source": [
    "---\n",
    "author: Erick Jahir Romo Eligio\n",
    "date: 'Jun 04nd, 2025'\n",
    "format:\n",
    "  html:\n",
    "    code-tools: true\n",
    "    code-fold: true\n",
    "---"
   ]
  },
  {
   "cell_type": "code",
   "execution_count": 1,
   "id": "7bbc60d4-1786-4cb3-942b-9c0ea976fb98",
   "metadata": {},
   "outputs": [],
   "source": [
    "import pandas as pd\n",
    "import numpy as np"
   ]
  },
  {
   "cell_type": "markdown",
   "id": "364b825a-4828-444e-82e1-4914c212f43d",
   "metadata": {},
   "source": [
    "## Introducción\n",
    "Como señala el Instituto Nacional de Estadística y Geografía (INEGI) [2], la Encuesta Nacional sobre el Consumo de Energéticos en Viviendas Particulares (ENCEVI) tuvo el objetivo de generar información estadística que permita conocer las características de consumo de distintas fuentes de energía utilizadas en las viviendas particulares y, conjuntamente, conocer sobre los hábitos y las prácticas en el manejo de energéticos.\n",
    "\n",
    "Esta encuesta cuenta con 372 variables, de las cuales 13 son de nuestro interés. Su contenido se encuentra explicado en la siguiente sección; sin embargo, se tuvieron que desechar más del 50% de los datos debido a diversas causas.\n",
    "\n",
    "## Descripción de las variables \n",
    "Para la limpieza de datos se utilizaron 13 variables: 3 proporcionadas por Hernández [1] y las otras 10 obtenidas de la ENCEVI [2], la descripción de todas ellas se encuentra en las siguientes secciones.\n",
    "\n",
    "### Consumo de electricidad en kWh por mes\n",
    "El primer obstáculo con el que nos encontramos es la falta de datos relacionados con el consumo eléctrico en kWh, ya que lo único que se preguntó en la ENCEVI fue el costo que aparecía en su último recibo. A primera vista, puede parecer sencillo convertir el gasto en MXN a consumo en kWh, pero como bien lo señala [1], el gasto depende de la periodicidad, la tarifa, los impuestos, el periodo (en verano o en el resto del año), y otros gastos vinculados como penalizaciones, reconexiónes, etc. Además, en muchas de las encuestas, se declaraba no conocer alguno o todos los datos anteriores, lo que dificultaba aún más determinar el consumo en kWh. Afortunadamente, M. Hernández y D. Patiño [1] desarrollaron una metodología para estimar el consumo por periodo a partir de los datos con los que sí se cuenta y con ciertas suposiciones, consiguiendo estimar el consumo del 67.06% de los hogares encuestados.\n",
    "\n",
    "Para calcular el consumo por mes se utilizaron dos variables de [1]. La primera es el **bill_kwh_estimation** el cual representa el consumo en kWh estimado para cada recibo, la segunda son los **bill_days** que indican cuantos días comprende cada recibo. Para calcular el consumo por mes, se dividió el consumo o **bill_kwh_estimation** entre el periodo o **bill_days** y se multiplico por 30. \n",
    "\n",
    "### Municipio\n",
    "Debido a que la ENCEVI solo proporciona el estado de cada vivienda, [1] también proporcionó una estimación del municipio al que podría pertenecer cada vivienda, en la base de datos de [1], el municipio aparece como *munic_name*\n",
    "\n",
    "### Folio de la vivienda\n",
    "El folio de la vivienda es un identificador único para cada vivienda, apareció en ENCEVI como **folio** y en la base de [1] como **folioviv**, pero ambos representan lo mismo. El folio es muy importante porque es una llave foránea presente en todas las tablas contenidas en la ENCEVI y en [1].\n",
    "\n",
    "### Factor de expansión\n",
    "El factor de expansión aparece en la ENCEVI dentro de la tabla VIVIENDA como **factor_sem** y en la base de datos de [1] como **factor**. En ambos casos, esta variable representa el peso que se le da a cada unidad muestral para generalizar los resultados de la muestra a la población. Ya que las viviendas seleccionadas y las personas que residen en ellas representa a otras viviendas y personas de condiciones socioeconómicas similares \n",
    "\n",
    "### Estrato socioeconómico\n",
    "En la ENCEVI se clasificó a las viviendas de acuerdo a las características socioeconómicas de las personas que las habitan así como características físicas y de equipamiento. Esta clasificacion es resultado de métodos estadísticos multivariados con 24 indicadores. Esta variable aparece como **est_socio** dentro de la tabla VIVIENDA y puede tomar uno de los siguientes valores:\n",
    "\n",
    "1. Bajo\n",
    "1. Medio bajo\n",
    "1. Medio alto\n",
    "1. Alto\n",
    "\n",
    "### Local comercial\n",
    "Esta variable aparece solo en la encuesta ENCEVI dentro de la tabla ENCEVI como **local_com** y representa si la vivienda cuenta con un local comercial (tienda, peluquería, etc). Esta variable puede tomar alguno de dos valores:\n",
    "\n",
    "1. = Si\n",
    "2. = No\n",
    "\n",
    "### Electricidad de red pública\n",
    "En la ENCEVI se puede diferenciar que viviendas cuentan con acceso a la red eléctrica pública mediante el uso de la variable **electri** dentro de la tabla ENCEVI, la cual puede tomar alguno de los siguientes valores:\n",
    "\n",
    "1. = Si\n",
    "2. = No\n",
    "\n",
    "### Uso de aire acondicionado\n",
    "Otra varíable de mucho interés es el uso de aire acondicionado, representado en la encuesta ENCEVI,  dentro de la tabla ENCEVI como **uso_aire**, ya que los hogares con este recurso suelen consumir más energía de forma significativa. Esta variable puede tomar uno de dos valores: \n",
    "\n",
    "1. = Si\n",
    "2. = No\n",
    "\n",
    "### Superficie de construcción \n",
    "Esta variable representa la superficie de construcción de todos los pisos de cada vivienda en metros cuadrados, se representa en la encuesta ENCEVI dentro de la tabla ENCEVI como **super_cons**, es importante diferenciarla de la superficie del terreno, ya que esta representa la huella de la casa así como las superficies no construidas (jardines, estacionamientos, etc.). La superficie de construcción puede tomar alguno de los siguientes valores: \n",
    "\n",
    "1. = Hasta 30m²  \n",
    "2. = De 31 a 55m²  \n",
    "3. = De 56 a 75m²  \n",
    "4. = De 76 a 100m²  \n",
    "5. = De 101 a 150m²  \n",
    "6. = De 151 a 200m²  \n",
    "7. = 201 a más m²\n",
    "8.  \n",
    "9. = No sabe\n",
    "\n",
    "### Número de integrantes de la vivienda\n",
    "En la encuesta ENCEVI, dentro de la tabla HOGAR, el número de integrantes de cada vivienda está representado por la variable **tot_integ**. Para poder entender las diferencias entre vivienda y hogar se proporcionan los siguientes conceptos extraidos de [https://www.inegi.org.mx/app/glosario/default.html?p=ENCEVI_2018]:\n",
    "\n",
    "- Vivienda particular: Construida o adaptada para el alojamiento de personas que forman hogares, y que en el momento del levantamiento puede estar habitada por uno o más hogares, o deshabitada.\n",
    "- El hogar censal es la unidad formada por una o más personas, vinculadas o no por lazos de parentesco, que residen habitualmente en la misma vivienda particular.\n",
    "\n",
    "### Resumen de la estructura en tablas\n",
    "**CONSUMO [1]:**\n",
    "\n",
    "- folio \"folioviv\"\n",
    "- Factor de expansión semestral \"factor\"\n",
    "- Consumo en el periodo en kWh \"bill_kwh_estimation\"\n",
    "- Periodo \"bill_days \"\n",
    "\n",
    "**ENCEVI** \n",
    "\n",
    "- \"folio\"\n",
    "- local comercial \"local_com\"\n",
    "    - 1 = Si\n",
    "    - 2 = No\n",
    "- Electricidad de red pública \"electri\"\n",
    "    - 1 = Si\n",
    "    - 2 = No\n",
    "- Uso de aire acondicionado \"uso_aire\"\n",
    "    - 1 = Si\n",
    "    - 2 = No\n",
    "- super_cons  \n",
    "    - 1 = Hasta 30m²  \n",
    "    - 2 = De 31 a 55m²  \n",
    "    - 3 = De 56 a 75m²  \n",
    "    - 4 = De 76 a 100m²  \n",
    "    - 5 = De 101 a 150m²  \n",
    "    - 6 = De 151 a 200m²  \n",
    "    - 7 = 201 a más m²  \n",
    "    - 9 = No sabe\n",
    "\n",
    "**VIVIENDA:**\n",
    "\n",
    "- \"folio\"\n",
    "- Factor de expansión semestral \"factor_sem\"\n",
    "- Estrato socioeconómico \"est_socio\"\n",
    "    - 1 = Bajo\n",
    "    - 2 = Medio bajo\n",
    "    - 3 = Medio alto\n",
    "    - 4 = Alto\n",
    "\n",
    "**HOGAR:**\n",
    "\n",
    "- \"folio\"\n",
    "- Número de integrantes del hogar \"tot_integ\"\t"
   ]
  },
  {
   "cell_type": "markdown",
   "id": "c49c006a-9b4a-4d33-813f-723b4aa3cf7f",
   "metadata": {},
   "source": [
    "## Limpieza previa\n",
    "Antes de unir y limpiar los datos según los parametros que nos interesen, debemos realizar una limpieza previa para garantizar las siguientes condiciones: \n",
    "\n",
    "- Folios repetidos: Esto no aplica para la tabla HOGAR, ya que el folio de vivienda se repite por cada hogar dentro de una misma vivienda\n",
    "- Tipos esperados: Los datos tienen un tipo de variable esperado (*float*,*str*,etc)\n",
    "- Valores esperados: No hay valores diferentes a los señalados en la descripción de las variables"
   ]
  },
  {
   "cell_type": "code",
   "execution_count": 2,
   "id": "81458d0c-f31a-4a6a-9162-b039754d4a36",
   "metadata": {
    "scrolled": true
   },
   "outputs": [],
   "source": [
    "# Importar tablas\n",
    "\n",
    "f = \"../data/ENCEVI_Hernandez/encevi_result_db_041722.csv\"\n",
    "CONSUMO = pd.read_csv(f,\n",
    "                     usecols = [\"folioviv\",\"factor\",\"bill_kwh_estimation\",\"bill_days\", \"munic_name\"]\n",
    "                    )\n",
    "CONSUMO.rename(columns={\"folioviv\": \"folio\", \"factor\": \"factor_sem\"}, inplace=True)\n",
    "CONSUMO.set_index('folio',inplace=True)\n",
    "\n",
    "f=\"../data/ENCEVI_raw/3_encevi_2018_base_de_datos_csv/encevi.csv\"\n",
    "ENCEVI = pd.read_csv(f,\n",
    "                     usecols = [\"folio\",\"super_cons\",\"uso_aire\",'local_com','electri',\n",
    "                               'total_niv','super_cons','super_ter','tot_cuart',]\n",
    "                    )\n",
    "ENCEVI.set_index('folio',inplace=True)\n",
    "\n",
    "f=\"../data/ENCEVI_raw/3_encevi_2018_base_de_datos_csv/vivienda.csv\"\n",
    "VIVIENDA = pd.read_csv(f,\n",
    "                     usecols = [\"folio\",\"factor_sem\",'est_socio','entidad']\n",
    "                    )\n",
    "VIVIENDA.set_index('folio',inplace=True)\n",
    "\n",
    "f=\"../data/ENCEVI_raw/3_encevi_2018_base_de_datos_csv/hogar.csv\"\n",
    "HOGAR = pd.read_csv(f,\n",
    "                     usecols = [\"folio\",\"tot_integ\"]\n",
    "                    )\n",
    "HOGAR.set_index('folio',inplace=True)"
   ]
  },
  {
   "cell_type": "markdown",
   "id": "3d0b2bfa-12bf-4ecd-8f58-00b61e368340",
   "metadata": {},
   "source": [
    "### Folios repetidos\n",
    "Como el folio es único para una vivienda, no se deben repetir para las tablas CONSUMO, ENCEVI, VIVIENDA y HOGAR"
   ]
  },
  {
   "cell_type": "code",
   "execution_count": 3,
   "id": "90ca33c3-2d85-4b44-8351-2acb26434965",
   "metadata": {},
   "outputs": [
    {
     "name": "stdout",
     "output_type": "stream",
     "text": [
      "  DataFrame  Total registros  FOLIO únicos  Duplicados\n",
      "0   CONSUMO            20578         20569           9\n",
      "1    ENCEVI            28953         28953           0\n",
      "2  VIVIENDA            28953         28953           0\n",
      "3     HOGAR            28953         28953           0\n"
     ]
    }
   ],
   "source": [
    "def revisar_duplicados_en_indice(dfs: dict):\n",
    "    resultados = []\n",
    "\n",
    "    for nombre, df in dfs.items():\n",
    "        total = len(df)\n",
    "        duplicados = df.index.duplicated().sum()  # Cuenta entradas duplicadas en el índice\n",
    "        unicos = df.index.nunique()\n",
    "\n",
    "        resultados.append({\n",
    "            \"DataFrame\": nombre,\n",
    "            \"Total registros\": total,\n",
    "            \"FOLIO únicos\": unicos,\n",
    "            \"Duplicados\": duplicados,\n",
    "        })\n",
    "\n",
    "    return pd.DataFrame(resultados)\n",
    "\n",
    "# Usar la función con tus DataFrames indexados por folio\n",
    "dfs = {\n",
    "    \"CONSUMO\": CONSUMO,\n",
    "    \"ENCEVI\": ENCEVI,\n",
    "    \"VIVIENDA\": VIVIENDA,\n",
    "    \"HOGAR\": HOGAR\n",
    "}\n",
    "\n",
    "tabla_duplicados = revisar_duplicados_en_indice(dfs)\n",
    "print(tabla_duplicados)"
   ]
  },
  {
   "cell_type": "code",
   "execution_count": 4,
   "id": "4aa2136c-ed72-42cf-8448-ed3c8239b5d6",
   "metadata": {},
   "outputs": [
    {
     "name": "stdout",
     "output_type": "stream",
     "text": [
      "Numero de viviendas tiradas por tener folio duplicado en CONSUMO: 25,688\n"
     ]
    }
   ],
   "source": [
    "# Identificar los duplicados en el índice\n",
    "duplicados_mask = CONSUMO.index.duplicated(keep=False)\n",
    "\n",
    "# Separar duplicados y únicos\n",
    "duplicados = CONSUMO[duplicados_mask]\n",
    "unicos = CONSUMO[~duplicados_mask]\n",
    "\n",
    "# Sumar los valores de 'factor_sum' de los duplicados\n",
    "Tirado_CONSUMO_folio_duplicado = duplicados['factor_sem'].sum()\n",
    "\n",
    "# Reemplazar CONSUMO con solo los registros únicos\n",
    "CONSUMO = unicos\n",
    "\n",
    "# Mostrar la suma \"tirada\"\n",
    "print(f\"Numero de viviendas tiradas por tener folio duplicado en CONSUMO: {Tirado_CONSUMO_folio_duplicado:,.0f}\")"
   ]
  },
  {
   "cell_type": "markdown",
   "id": "a34667d2-451b-4c4d-98bb-4bc35e5f4766",
   "metadata": {},
   "source": [
    "### Tipos de valores esperados\n",
    "Lo que se espera es que todas las variables sean *int* o *float* menos **munic_name** que sería *object*\n",
    "Lo que podemos ver en la tabla inferior es que las variables **uso_aire** y **local_com** no cumplen con esta condición."
   ]
  },
  {
   "cell_type": "code",
   "execution_count": 5,
   "id": "f2ce6204-7c34-479e-9701-6d2ef7913b84",
   "metadata": {
    "scrolled": true
   },
   "outputs": [
    {
     "name": "stdout",
     "output_type": "stream",
     "text": [
      "   DataFrame              Columna Tipo de dato\n",
      "0    CONSUMO           factor_sem        int64\n",
      "1    CONSUMO            bill_days        int64\n",
      "2    CONSUMO           munic_name       object\n",
      "3    CONSUMO  bill_kwh_estimation      float64\n",
      "4     ENCEVI            total_niv        int64\n",
      "5     ENCEVI            super_ter        int64\n",
      "6     ENCEVI           super_cons        int64\n",
      "7     ENCEVI            tot_cuart        int64\n",
      "8     ENCEVI              electri        int64\n",
      "9     ENCEVI            local_com       object\n",
      "10    ENCEVI             uso_aire       object\n",
      "14     HOGAR            tot_integ        int64\n",
      "11  VIVIENDA            est_socio        int64\n",
      "12  VIVIENDA           factor_sem        int64\n",
      "13  VIVIENDA              entidad        int64\n"
     ]
    }
   ],
   "source": [
    "# Lista de tus DataFrames con sus nombres\n",
    "dfs = {\n",
    "    \"CONSUMO\": CONSUMO,\n",
    "    \"ENCEVI\": ENCEVI,\n",
    "    \"VIVIENDA\": VIVIENDA,\n",
    "    \"HOGAR\": HOGAR\n",
    "}\n",
    "\n",
    "# Creamos una lista para almacenar los resultados\n",
    "info = []\n",
    "\n",
    "# Recorremos cada DataFrame\n",
    "for nombre, df in dfs.items():\n",
    "    for col in df.columns:\n",
    "        info.append({\n",
    "            \"DataFrame\": nombre,\n",
    "            \"Columna\": col,\n",
    "            \"Tipo de dato\": df[col].dtype\n",
    "        })\n",
    "\n",
    "# Convertimos a DataFrame\n",
    "tabla_tipos = pd.DataFrame(info)\n",
    "\n",
    "# Mostramos la tabla ordenada por DataFrame\n",
    "print(tabla_tipos.sort_values(by=\"DataFrame\"))\n"
   ]
  },
  {
   "cell_type": "code",
   "execution_count": 6,
   "id": "e1b276c9-e581-47fe-b86c-334d980fd2ea",
   "metadata": {},
   "outputs": [],
   "source": [
    "columnas = ENCEVI.select_dtypes(include='object').columns\n",
    "\n",
    "for col in columnas:\n",
    "    # Reemplazar cadenas vacías o espacios con NaN\n",
    "    ENCEVI[col] = ENCEVI[col].replace(r'^\\s*$', np.nan, regex=True)\n",
    "    \n",
    "    # Intentar convertir a numérico (NaN si falla)\n",
    "    ENCEVI[col] = pd.to_numeric(ENCEVI[col], errors='coerce')\n",
    "    \n",
    "    # Convertir a tipo entero que soporte NaN\n",
    "    ENCEVI[col] = ENCEVI[col].astype('Int64')\n"
   ]
  },
  {
   "cell_type": "markdown",
   "id": "feda085d-8d4e-47f6-b532-6f6d46461ae2",
   "metadata": {},
   "source": [
    "Ahora ya se cumple la primera condicion como se puede ver abajo."
   ]
  },
  {
   "cell_type": "code",
   "execution_count": 7,
   "id": "9a790d9a-645f-4088-ae7e-bf9a2ebbe3f0",
   "metadata": {
    "scrolled": true
   },
   "outputs": [
    {
     "name": "stdout",
     "output_type": "stream",
     "text": [
      "   DataFrame              Columna Tipo de dato\n",
      "0    CONSUMO           factor_sem        int64\n",
      "1    CONSUMO            bill_days        int64\n",
      "2    CONSUMO           munic_name       object\n",
      "3    CONSUMO  bill_kwh_estimation      float64\n",
      "4     ENCEVI            total_niv        int64\n",
      "5     ENCEVI            super_ter        int64\n",
      "6     ENCEVI           super_cons        int64\n",
      "7     ENCEVI            tot_cuart        int64\n",
      "8     ENCEVI              electri        int64\n",
      "9     ENCEVI            local_com        Int64\n",
      "10    ENCEVI             uso_aire        Int64\n",
      "14     HOGAR            tot_integ        int64\n",
      "11  VIVIENDA            est_socio        int64\n",
      "12  VIVIENDA           factor_sem        int64\n",
      "13  VIVIENDA              entidad        int64\n"
     ]
    }
   ],
   "source": [
    "# Lista de tus DataFrames con sus nombres\n",
    "dfs = {\n",
    "    \"CONSUMO\": CONSUMO,\n",
    "    \"ENCEVI\": ENCEVI,\n",
    "    \"VIVIENDA\": VIVIENDA,\n",
    "    \"HOGAR\": HOGAR\n",
    "}\n",
    "\n",
    "# Creamos una lista para almacenar los resultados\n",
    "info = []\n",
    "\n",
    "# Recorremos cada DataFrame\n",
    "for nombre, df in dfs.items():\n",
    "    for col in df.columns:\n",
    "        info.append({\n",
    "            \"DataFrame\": nombre,\n",
    "            \"Columna\": col,\n",
    "            \"Tipo de dato\": df[col].dtype\n",
    "        })\n",
    "\n",
    "# Convertimos a DataFrame\n",
    "tabla_tipos = pd.DataFrame(info)\n",
    "\n",
    "# Mostramos la tabla ordenada por DataFrame\n",
    "print(tabla_tipos.sort_values(by=\"DataFrame\"))\n"
   ]
  },
  {
   "cell_type": "markdown",
   "id": "d0cf48a5-3755-49c1-8139-3c1127f07eb7",
   "metadata": {},
   "source": [
    "### Valores esperados\n",
    "Por distintas razones como pérdida de datos, errores al anotar o capturar, se puede llegar a tener valores diferentes a los que nos esperamos en la descripción de variables. Las variables que tienen valores fijos esperados son: \n",
    "\n",
    "- local comercial \"local_com\"\n",
    "    - 1 = Si\n",
    "    - 2 = No\n",
    "- Electricidad de red pública \"electri\"\n",
    "    - 1 = Si\n",
    "    - 2 = No\n",
    "- Uso de aire acondicionado \"uso_aire\"\n",
    "    - 1 = Si\n",
    "    - 2 = No\n",
    "- super_cons  \n",
    "    - 1 = Hasta 30m²  \n",
    "    - 2 = De 31 a 55m²  \n",
    "    - 3 = De 56 a 75m²  \n",
    "    - 4 = De 76 a 100m²  \n",
    "    - 5 = De 101 a 150m²  \n",
    "    - 6 = De 151 a 200m²  \n",
    "    - 7 = 201 a más m²  \n",
    "    - 9 = No sabe\n",
    "\n",
    "- Estrato socioeconómico \"est_socio\"\n",
    "    - 1 = Bajo\n",
    "    - 2 = Medio bajo\n",
    "    - 3 = Medio alto\n",
    "    - 4 = Alto\n",
    "\n",
    "Como podemos ver, las columnas local_com y uso_aire tienen valores NaN que tendrán que ser descartados más adelante."
   ]
  },
  {
   "cell_type": "code",
   "execution_count": 8,
   "id": "9bb97547-8755-466e-84ea-01688778c5e8",
   "metadata": {
    "scrolled": true
   },
   "outputs": [
    {
     "name": "stdout",
     "output_type": "stream",
     "text": [
      "      variable  valor  frecuencia  porcentaje\n",
      "0    local_com      2       26830       92.67\n",
      "1    local_com      1        1847        6.38\n",
      "2    local_com   <NA>         276        0.95\n",
      "3      electri      1       28677       99.05\n",
      "4      electri      2         276        0.95\n",
      "5     uso_aire      2       23544       81.32\n",
      "6     uso_aire      1        5225       18.05\n",
      "7     uso_aire   <NA>         184        0.64\n",
      "8   super_cons      9        6502       22.46\n",
      "9   super_cons      4        4977       17.19\n",
      "10  super_cons      3        4519       15.61\n",
      "11  super_cons      2        4008       13.84\n",
      "12  super_cons      5        3735        12.9\n",
      "13  super_cons      1        2148        7.42\n",
      "14  super_cons      6        1828        6.31\n",
      "15  super_cons      7        1236        4.27\n",
      "16   est_socio      2       15126       52.24\n",
      "17   est_socio      3        5884       20.32\n",
      "18   est_socio      1        5505       19.01\n",
      "19   est_socio      4        2438        8.42\n"
     ]
    }
   ],
   "source": [
    "import pandas as pd\n",
    "\n",
    "columnas = [\n",
    "    \"local_com\",\n",
    "    \"electri\",\n",
    "    \"uso_aire\",\n",
    "    \"super_cons\",\n",
    "    \"est_socio\"\n",
    "]\n",
    "\n",
    "dataframes = [\n",
    "    ENCEVI,\n",
    "    ENCEVI,\n",
    "    ENCEVI,\n",
    "    ENCEVI,\n",
    "    VIVIENDA\n",
    "]\n",
    "\n",
    "# Lista para guardar los resultados\n",
    "resultados = []\n",
    "\n",
    "for col, df in zip(columnas, dataframes):\n",
    "    conteo = df[col].value_counts(dropna=False)\n",
    "    porcentaje = df[col].value_counts(normalize=True, dropna=False) * 100\n",
    "\n",
    "    # Convertir a DataFrame temporal\n",
    "    temp_df = pd.DataFrame({\n",
    "        \"variable\": col,\n",
    "        \"valor\": conteo.index,\n",
    "        \"frecuencia\": conteo.values,\n",
    "        \"porcentaje\": porcentaje.values.round(2)\n",
    "    })\n",
    "\n",
    "    resultados.append(temp_df)\n",
    "\n",
    "# Unir todos los resultados en un solo DataFrame\n",
    "tabla_resultado = pd.concat(resultados, ignore_index=True)\n",
    "\n",
    "# Mostrar\n",
    "print(tabla_resultado)"
   ]
  },
  {
   "cell_type": "markdown",
   "id": "0e08fae2-25da-45dc-80b9-76963c996822",
   "metadata": {},
   "source": [
    "## Unir las tablas y limpieza\n",
    "Para poder continuar con el procesamiento y limpieza de los datos es necesario unir las tablas para poder acceder al factor de expansión y contabilizar cuántos datos se van tirando en cada paso. El proceso de limpieza tiene el objetivo de discriminar los datos mediante los siguientes parametros\n",
    "\n",
    "- Valores sin NaN\n",
    "- Viviendas con conexión a la red pública\n",
    "- Viviendas sin negocio\n",
    "- Por tamaño de vivienda \n",
    "\n",
    "### Unir tablas ENCEVI, VIVIENDA y HOGAR\n",
    "Es fácil unirlos ya que todos tienen el mismo número de datos"
   ]
  },
  {
   "cell_type": "code",
   "execution_count": 9,
   "id": "86c2a218-00a3-4fdf-8645-8450eb2222f6",
   "metadata": {},
   "outputs": [
    {
     "data": {
      "text/html": [
       "<div>\n",
       "<style scoped>\n",
       "    .dataframe tbody tr th:only-of-type {\n",
       "        vertical-align: middle;\n",
       "    }\n",
       "\n",
       "    .dataframe tbody tr th {\n",
       "        vertical-align: top;\n",
       "    }\n",
       "\n",
       "    .dataframe thead th {\n",
       "        text-align: right;\n",
       "    }\n",
       "</style>\n",
       "<table border=\"1\" class=\"dataframe\">\n",
       "  <thead>\n",
       "    <tr style=\"text-align: right;\">\n",
       "      <th></th>\n",
       "      <th>total_niv</th>\n",
       "      <th>super_ter</th>\n",
       "      <th>super_cons</th>\n",
       "      <th>tot_cuart</th>\n",
       "      <th>electri</th>\n",
       "      <th>local_com</th>\n",
       "      <th>uso_aire</th>\n",
       "      <th>est_socio</th>\n",
       "      <th>factor_sem</th>\n",
       "      <th>entidad</th>\n",
       "      <th>tot_integ</th>\n",
       "    </tr>\n",
       "    <tr>\n",
       "      <th>folio</th>\n",
       "      <th></th>\n",
       "      <th></th>\n",
       "      <th></th>\n",
       "      <th></th>\n",
       "      <th></th>\n",
       "      <th></th>\n",
       "      <th></th>\n",
       "      <th></th>\n",
       "      <th></th>\n",
       "      <th></th>\n",
       "      <th></th>\n",
       "    </tr>\n",
       "  </thead>\n",
       "  <tbody>\n",
       "    <tr>\n",
       "      <th>1</th>\n",
       "      <td>2</td>\n",
       "      <td>3</td>\n",
       "      <td>7</td>\n",
       "      <td>11</td>\n",
       "      <td>1</td>\n",
       "      <td>2</td>\n",
       "      <td>2</td>\n",
       "      <td>3</td>\n",
       "      <td>373</td>\n",
       "      <td>1</td>\n",
       "      <td>1</td>\n",
       "    </tr>\n",
       "    <tr>\n",
       "      <th>2</th>\n",
       "      <td>1</td>\n",
       "      <td>3</td>\n",
       "      <td>3</td>\n",
       "      <td>6</td>\n",
       "      <td>1</td>\n",
       "      <td>2</td>\n",
       "      <td>2</td>\n",
       "      <td>3</td>\n",
       "      <td>373</td>\n",
       "      <td>1</td>\n",
       "      <td>4</td>\n",
       "    </tr>\n",
       "    <tr>\n",
       "      <th>3</th>\n",
       "      <td>2</td>\n",
       "      <td>3</td>\n",
       "      <td>7</td>\n",
       "      <td>5</td>\n",
       "      <td>1</td>\n",
       "      <td>2</td>\n",
       "      <td>2</td>\n",
       "      <td>3</td>\n",
       "      <td>373</td>\n",
       "      <td>1</td>\n",
       "      <td>4</td>\n",
       "    </tr>\n",
       "    <tr>\n",
       "      <th>4</th>\n",
       "      <td>1</td>\n",
       "      <td>3</td>\n",
       "      <td>4</td>\n",
       "      <td>6</td>\n",
       "      <td>1</td>\n",
       "      <td>2</td>\n",
       "      <td>2</td>\n",
       "      <td>3</td>\n",
       "      <td>373</td>\n",
       "      <td>1</td>\n",
       "      <td>1</td>\n",
       "    </tr>\n",
       "    <tr>\n",
       "      <th>5</th>\n",
       "      <td>1</td>\n",
       "      <td>3</td>\n",
       "      <td>4</td>\n",
       "      <td>5</td>\n",
       "      <td>1</td>\n",
       "      <td>2</td>\n",
       "      <td>2</td>\n",
       "      <td>3</td>\n",
       "      <td>373</td>\n",
       "      <td>1</td>\n",
       "      <td>2</td>\n",
       "    </tr>\n",
       "  </tbody>\n",
       "</table>\n",
       "</div>"
      ],
      "text/plain": [
       "       total_niv  super_ter  super_cons  tot_cuart  electri  local_com  \\\n",
       "folio                                                                    \n",
       "1              2          3           7         11        1          2   \n",
       "2              1          3           3          6        1          2   \n",
       "3              2          3           7          5        1          2   \n",
       "4              1          3           4          6        1          2   \n",
       "5              1          3           4          5        1          2   \n",
       "\n",
       "       uso_aire  est_socio  factor_sem  entidad  tot_integ  \n",
       "folio                                                       \n",
       "1             2          3         373        1          1  \n",
       "2             2          3         373        1          4  \n",
       "3             2          3         373        1          4  \n",
       "4             2          3         373        1          1  \n",
       "5             2          3         373        1          2  "
      ]
     },
     "execution_count": 9,
     "metadata": {},
     "output_type": "execute_result"
    }
   ],
   "source": [
    "encuesta_ENCEVI = pd.concat([ENCEVI, VIVIENDA, HOGAR], axis=1)\n",
    "encuesta_ENCEVI.head(5)"
   ]
  },
  {
   "cell_type": "code",
   "execution_count": 10,
   "id": "9de0db80-f4d1-4262-8461-da4f4e6945d0",
   "metadata": {},
   "outputs": [
    {
     "name": "stdout",
     "output_type": "stream",
     "text": [
      "En la encuesta ENCEVI sin limpiar tenemos 33,162,148 viviendas \n"
     ]
    }
   ],
   "source": [
    "VIVIENDA_original = VIVIENDA.copy()\n",
    "Total_viviendas_ENCEVI = VIVIENDA_original.factor_sem.sum()\n",
    "\n",
    "print(f\"En la encuesta ENCEVI sin limpiar tenemos {Total_viviendas_ENCEVI:,.0f} viviendas \")"
   ]
  },
  {
   "cell_type": "markdown",
   "id": "a1f85992-34b2-4be3-aa5b-3f5f45125609",
   "metadata": {},
   "source": [
    "### Tirar datos por tener NaN\n",
    "No nos interesan los valores que se hayan perdido u omitido, por esa razón se tiran los datos con valores NaN"
   ]
  },
  {
   "cell_type": "code",
   "execution_count": 11,
   "id": "dce0c4eb-d9c1-4d15-a902-cd4e99b25a74",
   "metadata": {},
   "outputs": [
    {
     "name": "stdout",
     "output_type": "stream",
     "text": [
      "Se tiraron 353,640 viviendas del total original, que equivale al 1.07% \n",
      "Nos quedamos con 32,808,508 viviendas\n"
     ]
    }
   ],
   "source": [
    "encuesta_ENCEVI_original = encuesta_ENCEVI.copy()\n",
    "encuesta_ENCEVI = encuesta_ENCEVI.dropna()\n",
    "\n",
    "tirados_NaN = Total_viviendas_ENCEVI - encuesta_ENCEVI.factor_sem.sum()\n",
    "tirados_NaN_pocentaje = (tirados_NaN *100 / Total_viviendas_ENCEVI)\n",
    "\n",
    "print(f\"Se tiraron {tirados_NaN:,.0f} viviendas del total original, que equivale al {round(tirados_NaN_pocentaje,2)}% \")\n",
    "print(f\"Nos quedamos con {encuesta_ENCEVI.factor_sem.sum():,.0f} viviendas\")"
   ]
  },
  {
   "cell_type": "code",
   "execution_count": 12,
   "id": "4a4e416f-8e43-4450-8917-e1646837a4e8",
   "metadata": {
    "scrolled": true
   },
   "outputs": [
    {
     "name": "stdout",
     "output_type": "stream",
     "text": [
      "Se tiraron 74,034 viviendas de la base de datos de Hernandez por tener NaN, que equivale al 1.07% \n",
      "Nos quedamos con 22,237,360 viviendas de HERNANDEZ [1]\n"
     ]
    }
   ],
   "source": [
    "CONSUMO_orignal = CONSUMO.copy()\n",
    "CONSUMO = CONSUMO.dropna()\n",
    "\n",
    "tirados_NaN_CONSUMO = CONSUMO_orignal.factor_sem.sum() - CONSUMO.factor_sem.sum()\n",
    "tirados_NaN_CONSUMO_porcentaje = (tirados_NaN_CONSUMO*100)/Total_viviendas_ENCEVI\n",
    "\n",
    "print(f\"Se tiraron {tirados_NaN_CONSUMO:,.0f} viviendas de la base de datos de Hernandez por tener NaN, que equivale al {round(tirados_NaN_pocentaje,2)}% \")\n",
    "print(f\"Nos quedamos con { CONSUMO.factor_sem.sum():,.0f} viviendas de HERNANDEZ [1]\")"
   ]
  },
  {
   "cell_type": "code",
   "execution_count": 13,
   "id": "1d493f66-def6-49bb-94cc-10fd43e47144",
   "metadata": {},
   "outputs": [
    {
     "data": {
      "text/plain": [
       "Index(['factor_sem', 'bill_days', 'munic_name', 'bill_kwh_estimation'], dtype='object')"
      ]
     },
     "execution_count": 13,
     "metadata": {},
     "output_type": "execute_result"
    }
   ],
   "source": [
    "CONSUMO.columns"
   ]
  },
  {
   "cell_type": "markdown",
   "id": "8a8973c7-dbb0-4a03-81da-20544bc0dd50",
   "metadata": {},
   "source": [
    "### Tirar viviendas sin conexión a la red pública\n",
    "\n",
    "Como nos interesa analizar el consumo de energía electrica, no nos es útil los datos de las viviendas que están desconectadas de la red pública. "
   ]
  },
  {
   "cell_type": "code",
   "execution_count": 14,
   "id": "04090bf2-73a1-4898-8ac1-217dd05f12af",
   "metadata": {
    "scrolled": true
   },
   "outputs": [
    {
     "name": "stdout",
     "output_type": "stream",
     "text": [
      "Se tiraron 353,640 viviendas del total original, que equivale al 1.07% \n",
      "Nos quedamos con 32,808,508 viviendas\n"
     ]
    }
   ],
   "source": [
    "# Calcular la suma de 'factor_sem' donde 'electri' es 2\n",
    "tirados_no_luz = encuesta_ENCEVI_original.loc[encuesta_ENCEVI_original['electri'] == 2, 'factor_sem'].sum()\n",
    "\n",
    "# Eliminar las filas donde 'electri' es 2\n",
    "encuesta_ENCEVI = encuesta_ENCEVI[encuesta_ENCEVI['electri'] != 2]\n",
    "\n",
    "\n",
    "tirados_no_luz_pocentaje = (tirados_no_luz *100 / Total_viviendas_ENCEVI)\n",
    "\n",
    "print(f\"Se tiraron {tirados_no_luz:,.0f} viviendas del total original, que equivale al {round(tirados_no_luz_pocentaje,2)}% \")\n",
    "print(f\"Nos quedamos con {encuesta_ENCEVI.factor_sem.sum():,.0f} viviendas\")"
   ]
  },
  {
   "cell_type": "markdown",
   "id": "1bed5bb3-6d74-40bc-acad-d4714eb0bf65",
   "metadata": {},
   "source": [
    "Curiosamente, coincidio que todos los que habían contestado que no tenían conexión a la red pública, también tenian un valor NaN en alguna otra variable."
   ]
  },
  {
   "cell_type": "code",
   "execution_count": 15,
   "id": "04be8c9c-4e7c-4365-bf16-608831ced942",
   "metadata": {},
   "outputs": [
    {
     "name": "stdout",
     "output_type": "stream",
     "text": [
      "¿Todas las filas con sin conexión a la red pública tienen al menos un NaN?: True\n"
     ]
    }
   ],
   "source": [
    "# Filtrar filas donde electri == 2\n",
    "filas_electri_2 = encuesta_ENCEVI_original[encuesta_ENCEVI_original['electri'] == 2]\n",
    "\n",
    "# Verificar si todas esas filas tienen al menos un NaN en alguna columna\n",
    "todas_tienen_NaN = filas_electri_2.isnull().any(axis=1).all()\n",
    "\n",
    "print(\"¿Todas las filas con sin conexión a la red pública tienen al menos un NaN?:\", todas_tienen_NaN)\n"
   ]
  },
  {
   "cell_type": "markdown",
   "id": "446880e5-770b-49b3-be5d-b3c31fdbd5fe",
   "metadata": {},
   "source": [
    "### Tirar datos por tener un local comercial\n",
    "\n",
    "Debido a que el consumo de los aparatos relacionados con los locales comerciales aumentan el consumo de una vivienda, no se considerarán las que tengan uno."
   ]
  },
  {
   "cell_type": "code",
   "execution_count": 16,
   "id": "8f9173a2-c5c5-43ab-8e23-fe0a4fe698b1",
   "metadata": {
    "scrolled": true
   },
   "outputs": [
    {
     "name": "stdout",
     "output_type": "stream",
     "text": [
      "Se tiraron 2,046,003 viviendas del total original, que equivale al 6.17% \n",
      "Nos quedamos con 30,762,505 viviendas\n"
     ]
    }
   ],
   "source": [
    "# Calcular la suma de 'factor_sem' donde 'electri' es 2\n",
    "tirados_local_com = encuesta_ENCEVI_original.loc[encuesta_ENCEVI_original['local_com'] == 1, 'factor_sem'].sum()\n",
    "\n",
    "# Eliminar las filas donde 'electri' es 2\n",
    "encuesta_ENCEVI = encuesta_ENCEVI[encuesta_ENCEVI['local_com'] != 1]\n",
    "\n",
    "\n",
    "tirados_local_com_pocentaje = (tirados_local_com *100 / Total_viviendas_ENCEVI)\n",
    "\n",
    "print(f\"Se tiraron {tirados_local_com:,.0f} viviendas del total original, que equivale al {round(tirados_local_com_pocentaje,2)}% \")\n",
    "print(f\"Nos quedamos con {encuesta_ENCEVI.factor_sem.sum():,.0f} viviendas\")"
   ]
  },
  {
   "cell_type": "markdown",
   "id": "3c29a0ff-f4ea-4c5f-a3d8-149e8a9d0ab7",
   "metadata": {},
   "source": [
    "### Por tamaño de vivienda\n",
    "Solo nos interesan las viviendas que hayan contestado que conocen el tamaño de sus viviendas y que es menor a 200 m2. Ya que para las viviendas mayores a 201 m2, no tiene sentido relacionar el consumo con el tamaño, ya que el rango de 201 a infinito es muy grande. "
   ]
  },
  {
   "cell_type": "code",
   "execution_count": 17,
   "id": "90139a16-a20f-44a1-bbb1-47c8900801c7",
   "metadata": {
    "scrolled": true
   },
   "outputs": [
    {
     "name": "stdout",
     "output_type": "stream",
     "text": [
      "Se tiraron 8,966,153 viviendas del total original, que equivale al 27.04% \n",
      "Nos quedamos con 22,454,319 viviendas\n"
     ]
    }
   ],
   "source": [
    "# Calcular la suma de 'factor_sem' donde 'electri' es 2\n",
    "tirados_tamano = encuesta_ENCEVI_original.loc[\n",
    "    encuesta_ENCEVI_original['super_cons'].isin([7,9]),\n",
    "    'factor_sem'\n",
    "].sum()\n",
    "# Eliminar las filas donde 'electri' es 2\n",
    "encuesta_ENCEVI = encuesta_ENCEVI[~encuesta_ENCEVI['super_cons'].isin([7,9])]\n",
    "\n",
    "\n",
    "tirados_tamano_pocentaje = (tirados_tamano *100 / Total_viviendas_ENCEVI)\n",
    "\n",
    "print(f\"Se tiraron {tirados_tamano:,.0f} viviendas del total original, que equivale al {round(tirados_tamano_pocentaje,2)}% \")\n",
    "print(f\"Nos quedamos con {encuesta_ENCEVI.factor_sem.sum():,.0f} viviendas\")"
   ]
  },
  {
   "cell_type": "markdown",
   "id": "cea13edd-8d38-48a8-89c4-d774aa4ffbc7",
   "metadata": {},
   "source": [
    "### Unir tablas encuesta_ENCEVI y CONSUMO\n",
    "En este caso hay que unir las tablas utilizando el folio que tienen por indice. Se perderán datos ya que no todos los que quedan en ENCEVI tienen un consumo estimado por Hernandez. "
   ]
  },
  {
   "cell_type": "code",
   "execution_count": 18,
   "id": "9ab52a79-7c24-4213-b985-8868976adeb9",
   "metadata": {},
   "outputs": [
    {
     "name": "stdout",
     "output_type": "stream",
     "text": [
      "Se tiraron 10,924,788 viviendas del total original, que equivale al 32.94% \n",
      "Nos quedamos con 15,671,554 viviendas\n"
     ]
    }
   ],
   "source": [
    "CONSUMO_ = CONSUMO.drop('factor_sem', axis=1).copy()\n",
    "ENCEVI_CONSUMO = CONSUMO_.join(encuesta_ENCEVI, how='inner')\n",
    "\n",
    "tirados_sin_consumo = Total_viviendas_ENCEVI - CONSUMO.factor_sem.sum()\n",
    "\n",
    "tirados_sin_consumo_porcentaje = (tirados_sin_consumo *100) / Total_viviendas_ENCEVI\n",
    "\n",
    "print(f\"Se tiraron {tirados_sin_consumo:,.0f} viviendas del total original, que equivale al {round(tirados_sin_consumo_porcentaje,2)}% \")\n",
    "print(f\"Nos quedamos con {ENCEVI_CONSUMO.factor_sem.sum():,.0f} viviendas\")"
   ]
  },
  {
   "cell_type": "markdown",
   "id": "dc48c29a-fffc-4061-b8b7-15b28f42285b",
   "metadata": {},
   "source": [
    "## Analisís de resultados y conclusiones\n",
    "Como podemos observar en la tabla inferior, los criterios que más datos descartaron fueron la falta de un consumo estimado por Hernandez [1], y por tener una superficie de construcción desconocida o mayor a 201 m2. También cabe destacar, que al aplicar todos los criterios juntos, se descarta un porcentaje menor que la suma de los porcentajes por cada criterio, esto se debe a que un mismo dato descartado puede cumplir con mas de un criterio, como vimos antes, por ejemplo, todas las viviendas que no tenían conexión a la red pública, también contaban con almenos un NaN, esto quiere decir que al descartar utilizando esos dos críterios, se pierde solo el  1.07% en lugar de 2.14% que sería la suma de ambos críterios. \n",
    "\n",
    "En conclusión, al aplicar todos los críterios se descartó más de la mitad de los datos que se tenían en un inicio. A partir de este hecho hay que tomar decisiones sobre qué analisís se le dará a este grupo de datos, por ejemplo, determinar si se descartaron más datos de un grupo en párticular, por ejemplo, que se hayan descartado más datos del estrato socioeconómico bajo, o de uno o varios blioclímas en particular. "
   ]
  },
  {
   "cell_type": "code",
   "execution_count": 19,
   "id": "7f6249ba-d213-48f6-a3fd-82c1e9cc9db9",
   "metadata": {},
   "outputs": [
    {
     "name": "stdout",
     "output_type": "stream",
     "text": [
      "                         Criterio  Viviendas perdidas  Porcentaje (%)\n",
      "0                     Valores NaN              353640            1.07\n",
      "1   Sin conexión a la red pública              353640            1.07\n",
      "2          Con un local comercial             2046003            6.17\n",
      "3  Por superficie de construcción             8966153           27.04\n",
      "4                     Sin consumo            10924788           32.94\n",
      "5      Todos los criterios juntos            17490594           52.74\n"
     ]
    }
   ],
   "source": [
    "resumen = []\n",
    " \n",
    "# Filtro 1: Eliminar NaN\n",
    "\n",
    "resumen.append({\n",
    "    \"Criterio\": \"Valores NaN\",\n",
    "    \"Viviendas perdidas\": tirados_NaN,\n",
    "    \"Porcentaje (%)\": round(tirados_NaN_pocentaje,2)\n",
    "})\n",
    "resumen.append({\n",
    "    \"Criterio\": \"Sin conexión a la red pública\",\n",
    "    \"Viviendas perdidas\": tirados_no_luz   ,\n",
    "    \"Porcentaje (%)\": round(tirados_no_luz_pocentaje,2)\n",
    "})\n",
    "resumen.append({\n",
    "    \"Criterio\": \"Con un local comercial\",\n",
    "    \"Viviendas perdidas\": tirados_local_com,\n",
    "    \"Porcentaje (%)\": round(tirados_local_com_pocentaje ,2)\n",
    "})\n",
    "\n",
    "resumen.append({\n",
    "    \"Criterio\": \"Por superficie de construcción\",\n",
    "    \"Viviendas perdidas\": tirados_tamano    ,\n",
    "    \"Porcentaje (%)\": round(tirados_tamano_pocentaje ,2)\n",
    "})\n",
    "resumen.append({\n",
    "    \"Criterio\": \"Sin consumo\",\n",
    "    \"Viviendas perdidas\": tirados_sin_consumo ,\n",
    "    \"Porcentaje (%)\": round(tirados_sin_consumo_porcentaje ,2)\n",
    "})\n",
    "\n",
    "tirados_total = Total_viviendas_ENCEVI - ENCEVI_CONSUMO.factor_sem.sum()\n",
    "\n",
    "tirados_total_porcentaje = (tirados_total *100) / Total_viviendas_ENCEVI\n",
    "\n",
    "resumen.append({\n",
    "    \"Criterio\": \"Todos los criterios juntos\",\n",
    "    \"Viviendas perdidas\": tirados_total ,\n",
    "    \"Porcentaje (%)\": round(tirados_total_porcentaje ,2)\n",
    "})\n",
    "\n",
    "resumen_df = pd.DataFrame(resumen)\n",
    "\n",
    "# Mostrar resumen\n",
    "print(resumen_df)"
   ]
  },
  {
   "cell_type": "code",
   "execution_count": 20,
   "id": "abd4e8d6-8dbc-4f0c-8589-c2363d2877a5",
   "metadata": {},
   "outputs": [],
   "source": [
    "ENCEVI_CONSUMO.reset_index(names=\"folio\").to_parquet(\n",
    "    \"../data/modificado/ENCEVI_CONSUMO_2.parquet\", index=False\n",
    ")"
   ]
  },
  {
   "cell_type": "markdown",
   "id": "5f364b07-f9fe-4a85-a794-bdd81958a606",
   "metadata": {},
   "source": [
    "## Bibliográfia \n",
    "[1] M. Hernandez and D. Patino-Echeverri, \"Electricity consumption, subsidies, and policy inequalities in Mexico: Data from 100,000 households,\" Energy for Sustainable Development, vol. 67, pp. 232–242, 2022. [En línea]. Disponible en: https://www.scopus.com/record/display.uri?eid=2-s2.0-85138759242\n",
    "\n",
    "[2] Instituto Nacional de Estadística y Geografía (INEGI), Encuesta Nacional sobre Consumo de Energéticos en Viviendas Particulares 2018 (ENCEVI 2018), México, 2018. [En línea]. Disponible en: https://www.inegi.org.mx/rnm/index.php/catalog/495"
   ]
  },
  {
   "cell_type": "code",
   "execution_count": 21,
   "id": "2fe611c4-9280-4fd3-8c90-18cc5f6509de",
   "metadata": {},
   "outputs": [
    {
     "data": {
      "text/html": [
       "<div>\n",
       "<style scoped>\n",
       "    .dataframe tbody tr th:only-of-type {\n",
       "        vertical-align: middle;\n",
       "    }\n",
       "\n",
       "    .dataframe tbody tr th {\n",
       "        vertical-align: top;\n",
       "    }\n",
       "\n",
       "    .dataframe thead th {\n",
       "        text-align: right;\n",
       "    }\n",
       "</style>\n",
       "<table border=\"1\" class=\"dataframe\">\n",
       "  <thead>\n",
       "    <tr style=\"text-align: right;\">\n",
       "      <th></th>\n",
       "      <th>bill_days</th>\n",
       "      <th>munic_name</th>\n",
       "      <th>bill_kwh_estimation</th>\n",
       "      <th>total_niv</th>\n",
       "      <th>super_ter</th>\n",
       "      <th>super_cons</th>\n",
       "      <th>tot_cuart</th>\n",
       "      <th>electri</th>\n",
       "      <th>local_com</th>\n",
       "      <th>uso_aire</th>\n",
       "      <th>est_socio</th>\n",
       "      <th>factor_sem</th>\n",
       "      <th>entidad</th>\n",
       "      <th>tot_integ</th>\n",
       "    </tr>\n",
       "    <tr>\n",
       "      <th>folio</th>\n",
       "      <th></th>\n",
       "      <th></th>\n",
       "      <th></th>\n",
       "      <th></th>\n",
       "      <th></th>\n",
       "      <th></th>\n",
       "      <th></th>\n",
       "      <th></th>\n",
       "      <th></th>\n",
       "      <th></th>\n",
       "      <th></th>\n",
       "      <th></th>\n",
       "      <th></th>\n",
       "      <th></th>\n",
       "    </tr>\n",
       "  </thead>\n",
       "  <tbody>\n",
       "    <tr>\n",
       "      <th>2</th>\n",
       "      <td>30</td>\n",
       "      <td>Aguascalientes</td>\n",
       "      <td>128.896444</td>\n",
       "      <td>1</td>\n",
       "      <td>3</td>\n",
       "      <td>3</td>\n",
       "      <td>6</td>\n",
       "      <td>1</td>\n",
       "      <td>2</td>\n",
       "      <td>2</td>\n",
       "      <td>3</td>\n",
       "      <td>373</td>\n",
       "      <td>1</td>\n",
       "      <td>4</td>\n",
       "    </tr>\n",
       "    <tr>\n",
       "      <th>4</th>\n",
       "      <td>30</td>\n",
       "      <td>Aguascalientes</td>\n",
       "      <td>167.110992</td>\n",
       "      <td>1</td>\n",
       "      <td>3</td>\n",
       "      <td>4</td>\n",
       "      <td>6</td>\n",
       "      <td>1</td>\n",
       "      <td>2</td>\n",
       "      <td>2</td>\n",
       "      <td>3</td>\n",
       "      <td>373</td>\n",
       "      <td>1</td>\n",
       "      <td>1</td>\n",
       "    </tr>\n",
       "    <tr>\n",
       "      <th>5</th>\n",
       "      <td>30</td>\n",
       "      <td>Aguascalientes</td>\n",
       "      <td>207.517844</td>\n",
       "      <td>1</td>\n",
       "      <td>3</td>\n",
       "      <td>4</td>\n",
       "      <td>5</td>\n",
       "      <td>1</td>\n",
       "      <td>2</td>\n",
       "      <td>2</td>\n",
       "      <td>3</td>\n",
       "      <td>373</td>\n",
       "      <td>1</td>\n",
       "      <td>2</td>\n",
       "    </tr>\n",
       "    <tr>\n",
       "      <th>6</th>\n",
       "      <td>61</td>\n",
       "      <td>Aguascalientes</td>\n",
       "      <td>69.987390</td>\n",
       "      <td>1</td>\n",
       "      <td>4</td>\n",
       "      <td>2</td>\n",
       "      <td>4</td>\n",
       "      <td>1</td>\n",
       "      <td>2</td>\n",
       "      <td>2</td>\n",
       "      <td>3</td>\n",
       "      <td>387</td>\n",
       "      <td>1</td>\n",
       "      <td>6</td>\n",
       "    </tr>\n",
       "    <tr>\n",
       "      <th>11</th>\n",
       "      <td>30</td>\n",
       "      <td>Aguascalientes</td>\n",
       "      <td>149.416488</td>\n",
       "      <td>2</td>\n",
       "      <td>2</td>\n",
       "      <td>3</td>\n",
       "      <td>3</td>\n",
       "      <td>1</td>\n",
       "      <td>2</td>\n",
       "      <td>2</td>\n",
       "      <td>3</td>\n",
       "      <td>372</td>\n",
       "      <td>1</td>\n",
       "      <td>5</td>\n",
       "    </tr>\n",
       "    <tr>\n",
       "      <th>...</th>\n",
       "      <td>...</td>\n",
       "      <td>...</td>\n",
       "      <td>...</td>\n",
       "      <td>...</td>\n",
       "      <td>...</td>\n",
       "      <td>...</td>\n",
       "      <td>...</td>\n",
       "      <td>...</td>\n",
       "      <td>...</td>\n",
       "      <td>...</td>\n",
       "      <td>...</td>\n",
       "      <td>...</td>\n",
       "      <td>...</td>\n",
       "      <td>...</td>\n",
       "    </tr>\n",
       "    <tr>\n",
       "      <th>28913</th>\n",
       "      <td>61</td>\n",
       "      <td>Villa Hidalgo</td>\n",
       "      <td>33.543506</td>\n",
       "      <td>1</td>\n",
       "      <td>5</td>\n",
       "      <td>3</td>\n",
       "      <td>2</td>\n",
       "      <td>1</td>\n",
       "      <td>2</td>\n",
       "      <td>2</td>\n",
       "      <td>2</td>\n",
       "      <td>408</td>\n",
       "      <td>32</td>\n",
       "      <td>2</td>\n",
       "    </tr>\n",
       "    <tr>\n",
       "      <th>28917</th>\n",
       "      <td>59</td>\n",
       "      <td>Genaro Codina</td>\n",
       "      <td>168.745539</td>\n",
       "      <td>1</td>\n",
       "      <td>9</td>\n",
       "      <td>5</td>\n",
       "      <td>5</td>\n",
       "      <td>1</td>\n",
       "      <td>2</td>\n",
       "      <td>2</td>\n",
       "      <td>2</td>\n",
       "      <td>338</td>\n",
       "      <td>32</td>\n",
       "      <td>5</td>\n",
       "    </tr>\n",
       "    <tr>\n",
       "      <th>28927</th>\n",
       "      <td>62</td>\n",
       "      <td>Genaro Codina</td>\n",
       "      <td>77.180962</td>\n",
       "      <td>1</td>\n",
       "      <td>5</td>\n",
       "      <td>3</td>\n",
       "      <td>3</td>\n",
       "      <td>1</td>\n",
       "      <td>2</td>\n",
       "      <td>2</td>\n",
       "      <td>2</td>\n",
       "      <td>338</td>\n",
       "      <td>32</td>\n",
       "      <td>6</td>\n",
       "    </tr>\n",
       "    <tr>\n",
       "      <th>28943</th>\n",
       "      <td>60</td>\n",
       "      <td>Tepetongo</td>\n",
       "      <td>41.689786</td>\n",
       "      <td>1</td>\n",
       "      <td>6</td>\n",
       "      <td>2</td>\n",
       "      <td>3</td>\n",
       "      <td>1</td>\n",
       "      <td>2</td>\n",
       "      <td>2</td>\n",
       "      <td>2</td>\n",
       "      <td>382</td>\n",
       "      <td>32</td>\n",
       "      <td>4</td>\n",
       "    </tr>\n",
       "    <tr>\n",
       "      <th>28948</th>\n",
       "      <td>30</td>\n",
       "      <td>Tepetongo</td>\n",
       "      <td>245.776231</td>\n",
       "      <td>2</td>\n",
       "      <td>6</td>\n",
       "      <td>6</td>\n",
       "      <td>5</td>\n",
       "      <td>1</td>\n",
       "      <td>2</td>\n",
       "      <td>2</td>\n",
       "      <td>2</td>\n",
       "      <td>382</td>\n",
       "      <td>32</td>\n",
       "      <td>5</td>\n",
       "    </tr>\n",
       "  </tbody>\n",
       "</table>\n",
       "<p>14447 rows × 14 columns</p>\n",
       "</div>"
      ],
      "text/plain": [
       "       bill_days      munic_name  bill_kwh_estimation  total_niv  super_ter  \\\n",
       "folio                                                                         \n",
       "2             30  Aguascalientes           128.896444          1          3   \n",
       "4             30  Aguascalientes           167.110992          1          3   \n",
       "5             30  Aguascalientes           207.517844          1          3   \n",
       "6             61  Aguascalientes            69.987390          1          4   \n",
       "11            30  Aguascalientes           149.416488          2          2   \n",
       "...          ...             ...                  ...        ...        ...   \n",
       "28913         61   Villa Hidalgo            33.543506          1          5   \n",
       "28917         59   Genaro Codina           168.745539          1          9   \n",
       "28927         62   Genaro Codina            77.180962          1          5   \n",
       "28943         60       Tepetongo            41.689786          1          6   \n",
       "28948         30       Tepetongo           245.776231          2          6   \n",
       "\n",
       "       super_cons  tot_cuart  electri  local_com  uso_aire  est_socio  \\\n",
       "folio                                                                   \n",
       "2               3          6        1          2         2          3   \n",
       "4               4          6        1          2         2          3   \n",
       "5               4          5        1          2         2          3   \n",
       "6               2          4        1          2         2          3   \n",
       "11              3          3        1          2         2          3   \n",
       "...           ...        ...      ...        ...       ...        ...   \n",
       "28913           3          2        1          2         2          2   \n",
       "28917           5          5        1          2         2          2   \n",
       "28927           3          3        1          2         2          2   \n",
       "28943           2          3        1          2         2          2   \n",
       "28948           6          5        1          2         2          2   \n",
       "\n",
       "       factor_sem  entidad  tot_integ  \n",
       "folio                                  \n",
       "2             373        1          4  \n",
       "4             373        1          1  \n",
       "5             373        1          2  \n",
       "6             387        1          6  \n",
       "11            372        1          5  \n",
       "...           ...      ...        ...  \n",
       "28913         408       32          2  \n",
       "28917         338       32          5  \n",
       "28927         338       32          6  \n",
       "28943         382       32          4  \n",
       "28948         382       32          5  \n",
       "\n",
       "[14447 rows x 14 columns]"
      ]
     },
     "execution_count": 21,
     "metadata": {},
     "output_type": "execute_result"
    }
   ],
   "source": [
    "ENCEVI_CONSUMO"
   ]
  },
  {
   "cell_type": "code",
   "execution_count": null,
   "id": "ee63410b-cdb5-4b66-be59-2e57747fd388",
   "metadata": {},
   "outputs": [],
   "source": []
  }
 ],
 "metadata": {
  "kernelspec": {
   "display_name": "Python 3 (ipykernel)",
   "language": "python",
   "name": "python3"
  },
  "language_info": {
   "codemirror_mode": {
    "name": "ipython",
    "version": 3
   },
   "file_extension": ".py",
   "mimetype": "text/x-python",
   "name": "python",
   "nbconvert_exporter": "python",
   "pygments_lexer": "ipython3",
   "version": "3.12.5"
  }
 },
 "nbformat": 4,
 "nbformat_minor": 5
}
